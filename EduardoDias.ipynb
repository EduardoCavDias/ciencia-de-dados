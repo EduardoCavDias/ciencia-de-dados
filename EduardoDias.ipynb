{
  "nbformat": 4,
  "nbformat_minor": 0,
  "metadata": {
    "colab": {
      "provenance": [],
      "authorship_tag": "ABX9TyM30NpER9VonwEQMKm4nkp8",
      "include_colab_link": true
    },
    "kernelspec": {
      "name": "python3",
      "display_name": "Python 3"
    },
    "language_info": {
      "name": "python"
    }
  },
  "cells": [
    {
      "cell_type": "markdown",
      "metadata": {
        "id": "view-in-github",
        "colab_type": "text"
      },
      "source": [
        "<a href=\"https://colab.research.google.com/github/EduardoCavDias/ciencia-de-dados/blob/main/EduardoDias.ipynb\" target=\"_parent\"><img src=\"https://colab.research.google.com/assets/colab-badge.svg\" alt=\"Open In Colab\"/></a>"
      ]
    },
    {
      "cell_type": "code",
      "execution_count": 7,
      "metadata": {
        "colab": {
          "base_uri": "https://localhost:8080/"
        },
        "id": "9Z3PgA70Cbjd",
        "outputId": "89e426a9-d634-4c3d-bdc1-98373d1c2149"
      },
      "outputs": [
        {
          "output_type": "stream",
          "name": "stdout",
          "text": [
            "Antes de limpar: {'nome': 'João', 'email': 'joao@example.com'}\n",
            "Depois de limpar: {'nome': '', 'email': ''}\n"
          ]
        }
      ],
      "source": [
        "# Define função para \"limpar\" formulário, resetando os campos.\n",
        "# A função não recebe parâmetros, só retorna novo dicionário.\n",
        "def limpar_formulario():\n",
        "    # Retorna dicionário com as chaves 'nome' e 'email' e valores\n",
        "    return {'nome': '', 'email': ''}\n",
        "\n",
        "# Exemplo de uso\n",
        "# Cria dicionário que simula formulário preenchido.\n",
        "formulario = {'nome': 'João', 'email': 'joao@example.com'}\n",
        "print(\"Antes de limpar:\", formulario)\n",
        "\n",
        "# Chama função para obter o formulário limpo e atribui o resultado\n",
        "# à variável 'formulario', sobrescrevendo o valor anterior com campos vazios.\n",
        "formulario = limpar_formulario()\n",
        "print(\"Depois de limpar:\", formulario)\n"
      ]
    }
  ]
}